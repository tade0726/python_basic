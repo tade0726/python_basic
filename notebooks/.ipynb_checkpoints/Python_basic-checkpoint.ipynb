{
 "cells": [
  {
   "cell_type": "markdown",
   "metadata": {},
   "source": [
    "# Python 教程编写"
   ]
  },
  {
   "cell_type": "markdown",
   "metadata": {},
   "source": [
    "## 概述:\n",
    "\n",
    "### Python 学习路径\n",
    "\n",
    "基础: \n",
    "- https://www.liaoxuefeng.com/wiki/0014316089557264a6b348958f449949df42a6d3a2e542c000\n",
    "- Python 最佳实践指南: https://pythonguidecn.readthedocs.io/zh/latest/    \n",
    "\n",
    "进阶: \n",
    "- Python cookbook: https://book.douban.com/subject/26381341/\n",
    "- Python 手册: https://book.douban.com/subject/6049132/\n",
    "- 流程的 Python : https://book.douban.com/subject/27028517/\n",
    "- Python 指南: http://pythonguidecn.readthedocs.io/zh/latest/\n",
    "\n",
    "高级:\n",
    "- Reading Open Source Projects and Keep Coding..\n",
    "\n",
    "### Python 2 vs Python 3\n",
    "- Python 2 将在 2020年停止维护\n",
    "- Python 3 在性能上更优秀，解决原本的字节编码混乱的问题\n",
    "\n",
    "### Python 环境管理\n",
    "- pipenv: https://robots.thoughtbot.com/how-to-manage-your-python-projects-with-pipenv\n",
    "\n",
    "### 统一代码风格 - pep8\n",
    "- Python pep8 文档： https://www.python.org/dev/peps/pep-0008/\n",
    "- 代码风格检查，修改：https://github.com/ambv/black\n",
    "- 浅谈软件工程师的代码素养: http://wetest.qq.com/lab/view/385.html\n",
    "\n",
    "### IDE\n",
    "- 统一使用 Pycharm\n",
    "\n",
    "### 错误信息捕获\n",
    "- Traceback， 捕获上下文\n",
    "\n",
    "### 测试\n",
    "- Pandas 性能测试： https://github.com/mm-mansour/Fast-Pandas\n",
    "- 单元测试： https://github.com/pytest-dev/pytest\n"
   ]
  },
  {
   "cell_type": "markdown",
   "metadata": {},
   "source": [
    "## Python basic sytax\n",
    "\n",
    "Please reading ppt in files folders:\n",
    "\n",
    "- [Lecture1_python.pptx](files/Lecture1_python.pptx)\n",
    "- [Lecture2_cis4930.pptx](files/Lecture2_cis4930.pptx)\n",
    "- [Lecture3_cis4930.pptx](files/Lecture3_cis4930.pptx)\n",
    "- [Lecture4_cis4930.pptx](files/Lecture4_cis4930.pptx)\n",
    "- [Lecture5_cis4930.pptx](files/Lecture5_cis4930.pptx)\n",
    "- [Lecture6_cis4930.pptx](files/Lecture6_cis4930.pptx)"
   ]
  },
  {
   "cell_type": "markdown",
   "metadata": {},
   "source": [
    "## Python 环境配置\n",
    "\n",
    "- how-to: http://docs.python-guide.org/en/latest/dev/virtualenvs/\n",
    "\n",
    "Three Ways:\n",
    "- conda --> recommanded fro data science project\n",
    "- pipenv --> recommanded for web projects\n",
    "- virtualenv"
   ]
  },
  {
   "cell_type": "markdown",
   "metadata": {},
   "source": [
    "## 标准库"
   ]
  },
  {
   "cell_type": "markdown",
   "metadata": {},
   "source": [
    "### datetime"
   ]
  },
  {
   "cell_type": "code",
   "execution_count": 24,
   "metadata": {},
   "outputs": [
    {
     "name": "stdout",
     "output_type": "stream",
     "text": [
      "2018-07-01 18:33:40.558459 | 2018-07-01 18:33:40.558506\n",
      "2018-07-01 18:33:40\n"
     ]
    }
   ],
   "source": [
    "## datetime\n",
    "\n",
    "from datetime import datetime\n",
    "\n",
    "today = datetime.today()\n",
    "now = datetime.now()\n",
    "\n",
    "print(today, \"|\", now)\n",
    "print(now.strftime(\"%Y-%m-%d %H:%M:%S\"))"
   ]
  },
  {
   "cell_type": "code",
   "execution_count": 32,
   "metadata": {},
   "outputs": [
    {
     "name": "stdout",
     "output_type": "stream",
     "text": [
      "1530441220.558506\n"
     ]
    }
   ],
   "source": [
    "## to unix time\n",
    "print(now.timestamp())"
   ]
  },
  {
   "cell_type": "code",
   "execution_count": 34,
   "metadata": {},
   "outputs": [
    {
     "name": "stdout",
     "output_type": "stream",
     "text": [
      "2018-07-01 18:33:40.558506\n"
     ]
    }
   ],
   "source": [
    "## from unix time\n",
    "unix_time = 1530441220.558506\n",
    "print(datetime.fromtimestamp(unix_time))"
   ]
  },
  {
   "cell_type": "markdown",
   "metadata": {},
   "source": [
    "### functools"
   ]
  },
  {
   "cell_type": "code",
   "execution_count": 39,
   "metadata": {},
   "outputs": [
    {
     "name": "stdout",
     "output_type": "stream",
     "text": [
      "720\n"
     ]
    }
   ],
   "source": [
    "from functools import reduce\n",
    "\n",
    "a = [1, 2, 3, 4, 5, 6]\n",
    "f = lambda x, y : x*y\n",
    "\n",
    "print(reduce(f, a))"
   ]
  },
  {
   "cell_type": "markdown",
   "metadata": {},
   "source": [
    "## itertools"
   ]
  },
  {
   "cell_type": "code",
   "execution_count": 40,
   "metadata": {},
   "outputs": [],
   "source": [
    "from itertools import chain"
   ]
  },
  {
   "cell_type": "code",
   "execution_count": 41,
   "metadata": {},
   "outputs": [],
   "source": [
    "a = [1, 2, 3, 4]\n",
    "b = [1, 2, 3, 4, 6, 7, 8, 8]"
   ]
  },
  {
   "cell_type": "code",
   "execution_count": 42,
   "metadata": {},
   "outputs": [
    {
     "name": "stdout",
     "output_type": "stream",
     "text": [
      "[1, 2, 3, 4, 1, 2, 3, 4, 6, 7, 8, 8]\n"
     ]
    }
   ],
   "source": [
    "print(list(chain(a, b)))"
   ]
  },
  {
   "cell_type": "markdown",
   "metadata": {},
   "source": [
    "## Pyhton 网络操作"
   ]
  },
  {
   "cell_type": "markdown",
   "metadata": {},
   "source": [
    "### requests\n",
    "\n",
    "```shell\n",
    "pip install requests\n",
    "```"
   ]
  },
  {
   "cell_type": "code",
   "execution_count": 43,
   "metadata": {},
   "outputs": [],
   "source": [
    "# simple get\n",
    "import requests\n",
    "\n",
    "url = \"http://python.org\"\n",
    "resp = requests.get(url)"
   ]
  },
  {
   "cell_type": "code",
   "execution_count": 16,
   "metadata": {},
   "outputs": [
    {
     "name": "stdout",
     "output_type": "stream",
     "text": [
      "<!doctype html>\n",
      "<!--[if lt IE 7]>   <html class=\"no-js ie6 lt-ie7 lt-ie8 lt-ie9\">   <![endif]-->\n",
      "<!--[if IE 7]>      <html class=\"no-js ie7 lt-ie8 lt-ie9\">          <![endif]-->\n",
      "<!--[if IE 8]>      <html class=\"no-js ie8 lt-ie9\">                 <![endif]-->\n",
      "<!--[if gt IE 8]><!--><html class=\"no-js\"\n"
     ]
    }
   ],
   "source": [
    "print(resp.text[:300])"
   ]
  },
  {
   "cell_type": "code",
   "execution_count": 17,
   "metadata": {},
   "outputs": [
    {
     "name": "stdout",
     "output_type": "stream",
     "text": [
      "{\"status\":\"1\",\"count\":\"81\",\"info\":\"OK\",\"infocode\":\"10000\",\"suggestion\":{\"keywords\":[],\"cities\":[]},\"pois\":[{\"id\":\"B000A7HBQS\",\"name\":\"北京市第八中学(高中部)\",\"type\":\"科教文化服务;学校;中学\",\"typecode\":\"141202\",\"biz_type\":[],\"address\":\"学院小街2号\",\"location\":\"116.361969,39.911127\",\"tel\":\"010-59733532\",\"distance\":[],\"biz_ext\":{\"rating\":\"5.0\",\"cost\":[]},\"pname\":\"北京市\",\"cityname\":\"北京市\",\"adname\":\"西城区\",\"importance\":[],\"shopid\":[],\"shopinfo\":\"0\",\"poiweight\":[]},{\"id\":\"B0FFG4GB1Q\",\"name\":\"北京八中(北1门)\",\"type\":\"通行设施;临街院门;临街院正门\",\"typecode\":\"991401\",\"biz_type\":[],\"address\":\"西便门外东大街乙2\",\"location\":\"116.353917,39.901233\",\"tel\":[],\"distance\":[],\"biz_ext\":{\"rating\":[],\"cost\":[]},\"pname\":\"北京市\",\"cityname\":\"北京市\",\"adname\":\"西城区\",\"importance\":[],\"shopid\":[],\"shopinfo\":\"2\",\"poiweight\":[]},{\"id\":\"B0FFG11IR0\",\"name\":\"北京八中(北2门)\",\"type\":\"通行设施;临街院门;临街院门\",\"typecode\":\"991400\",\"biz_type\":[],\"address\":\"西便门外大街10-16号附近\",\"location\":\"116.354564,39.901258\",\"tel\":[],\"distance\":[],\"biz_ext\":{\"rating\":[],\"cost\":[]},\"pname\":\"北京市\",\"cityname\":\"北京市\",\"adname\":\"西城区\",\"importance\":[],\"shopid\":[],\"shopinfo\":\"2\",\"poiweight\":[]},{\"id\":\"B0FFG842JM\",\"name\":\"北京市第八中学(百万庄校区)\",\"type\":\"科教文化服务;学校;中学\",\"typecode\":\"141202\",\"biz_type\":[],\"address\":\"百万庄南街14号\",\"location\":\"116.337997,39.924856\",\"tel\":\"010-56548606\",\"distance\":[],\"biz_ext\":{\"rating\":\"3.0\",\"cost\":[]},\"pname\":\"北京市\",\"cityname\":\"北京市\",\"adname\":\"西城区\",\"importance\":[],\"shopid\":[],\"shopinfo\":\"0\",\"poiweight\":[]},{\"id\":\"B000A7ORDI\",\"name\":\"北京市第八中学(大兴分校)\",\"type\":\"科教文化服务;学校;中学\",\"typecode\":\"141202\",\"biz_type\":[],\"address\":\"黄村镇康庄路40号\",\"location\":\"116.318909,39.75587\",\"tel\":\"010-69268299;010-69299807\",\"distance\":[],\"biz_ext\":{\"rating\":[],\"cost\":[]},\"pname\":\"北京市\",\"cityname\":\"北京市\",\"adname\":\"大兴区\",\"importance\":[],\"shopid\":[],\"shopinfo\":\"0\",\"poiweight\":[]},{\"id\":\"B0FFI8D9GE\",\"name\":\"北京八中分校(北门)\",\"type\":\"通行设施;临街院门;临街院门\",\"typecode\":\"991400\",\"biz_type\":[],\"address\":\"复兴门外大街乙20号\",\"location\":\"116.340690,39.906770\",\"tel\":[],\"distance\":[],\"biz_ext\":{\"rating\":[],\"cost\":[]},\"pname\":\"北京市\",\"cityname\":\"北京市\",\"adname\":\"西城区\",\"importance\":[],\"shopid\":[],\"shopinfo\":\"2\",\"poiweight\":[]},{\"id\":\"B0FFFN4DMM\",\"name\":\"北京八中(北门)\",\"type\":\"通行设施;临街院门;临街院门\",\"typecode\":\"991400\",\"biz_type\":[],\"address\":\"学院小街2号\",\"location\":\"116.362067,39.912020\",\"tel\":[],\"distance\":[],\"biz_ext\":{\"rating\":[],\"cost\":[]},\"pname\":\"北京市\",\"cityname\":\"北京市\",\"adname\":\"西城区\",\"importance\":[],\"shopid\":[],\"shopinfo\":\"2\",\"poiweight\":[]},{\"id\":\"B0FFGAPREC\",\"name\":\"北京市第八中学(西便门西里校区)\",\"type\":\"科教文化服务;学校;中学\",\"typecode\":\"141202\",\"biz_type\":[],\"address\":\"西便门西里18号\",\"location\":\"116.351264,39.899465\",\"tel\":\"010-56548511\",\"distance\":[],\"biz_ext\":{\"rating\":\"3.0\",\"cost\":[]},\"pname\":\"北京市\",\"cityname\":\"北京市\",\"adname\":\"西城区\",\"importance\":[],\"shopid\":[],\"shopinfo\":\"0\",\"poiweight\":[]},{\"id\":\"B0FFFN4DMD\",\"name\":\"北京八中(西门)\",\"type\":\"通行设施;临街院门;临街院正门\",\"typecode\":\"991401\",\"biz_type\":[],\"address\":\"学院小街2号\",\"location\":\"116.361103,39.910837\",\"tel\":[],\"distance\":[],\"biz_ext\":{\"rating\":[],\"cost\":[]},\"pname\":\"北京市\",\"cityname\":\"北京市\",\"adname\":\"西城区\",\"importance\":[],\"shopid\":[],\"shopinfo\":\"2\",\"poiweight\":[]},{\"id\":\"B0FFG4I0DJ\",\"name\":\"北京八中分校(西门)\",\"type\":\"通行设施;临街院门;临街院正门\",\"typecode\":\"991401\",\"biz_type\":[],\"address\":\"白云观街北里12号\",\"location\":\"116.345093,39.900651\",\"tel\":[],\"distance\":[],\"biz_ext\":{\"rating\":[],\"cost\":[]},\"pname\":\"北京市\",\"cityname\":\"北京市\",\"adname\":\"西城区\",\"importance\":[],\"shopid\":[],\"shopinfo\":\"2\",\"poiweight\":[]},{\"id\":\"B0FFF4FN9A\",\"name\":\"北京八中游泳馆\",\"type\":\"体育休闲服务;运动场馆;游泳馆\",\"typecode\":\"080110\",\"biz_type\":[],\"address\":\"太平桥大街学院小街2号北京八中内(近百盛)\",\"location\":\"116.361597,39.910302\",\"tel\":\"010-59733597\",\"distance\":[],\"biz_ext\":{\"rating\":\"4.0\",\"cost\":\"52.00\"},\"pname\":\"北京市\",\"cityname\":\"北京市\",\"adname\":\"西城区\",\"importance\":[],\"shopid\":[],\"shopinfo\":\"0\",\"poiweight\":[]},{\"id\":\"B0FFFN4DMI\",\"name\":\"北京八中(南门)\",\"type\":\"通行设施;临街院门;临街院门\",\"typecode\":\"991400\",\"biz_type\":[],\"address\":\"学院小街2号院\",\"location\":\"116.361944,39.910250\",\"tel\":[],\"distance\":[],\"biz_ext\":{\"rating\":[],\"cost\":[]},\"pname\":\"北京市\",\"cityname\":\"北京市\",\"adname\":\"西城区\",\"importance\":[],\"shopid\":[],\"shopinfo\":\"2\",\"poiweight\":[]},{\"id\":\"B000A85Y4U\",\"name\":\"北京市延庆区第八中学\",\"type\":\"科教文化服务;学校;中学\",\"typecode\":\"141202\",\"biz_type\":[],\"address\":\"延庆镇\",\"location\":\"116.008211,40.475541\",\"tel\":\"010-69176601\",\"distance\":[],\"biz_ext\":{\"rating\":[],\"cost\":[]},\"pname\":\"北京市\",\"cityname\":\"北京市\",\"adname\":\"延庆区\",\"importance\":[],\"shopid\":[],\"shopinfo\":\"0\",\"poiweight\":[]},{\"id\":\"B0FFG4E811\",\"name\":\"北京八中分校(南门)\",\"type\":\"通行设施;临街院门;临街院门\",\"typecode\":\"991400\",\"biz_type\":[],\"address\":\"白云观街北里12号\",\"location\":\"116.345523,39.900505\",\"tel\":[],\"distance\":[],\"biz_ext\":{\"rating\":[],\"cost\":[]},\"pname\":\"北京市\",\"cityname\":\"北京市\",\"adname\":\"西城区\",\"importance\":[],\"shopid\":[],\"shopinfo\":\"2\",\"poiweight\":[]},{\"id\":\"BV10003254\",\"name\":\"延庆八中(公交站)\",\"type\":\"交通设施服务;公交车站;公交车站相关\",\"typecode\":\"150700\",\"biz_type\":[],\"address\":\"925路;Y7路;Y11路;Y12路;Y13路;Y14路;Y15路;Y18路;Y19路;Y22路;Y24路;Y26路;Y27路;Y28路;Y29路;Y30路;Y31路;Y32路;Y34路;Y35路;Y36路;Y37路;Y38路;Y39路;Y40路;Y41路;Y42路\",\"location\":\"116.009834,40.475384\",\"tel\":[],\"distance\":[],\"biz_ext\":{\"rating\":[],\"cost\":[]},\"pname\":\"北京市\",\"cityname\":\"北京市\",\"adname\":\"延庆区\",\"importance\":[],\"shopid\":[],\"shopinfo\":\"2\",\"poiweight\":[]},{\"id\":\"B0FFI1C65Y\",\"name\":\"北京八中京西附属小学(南门)\",\"type\":\"通行设施;临街院门;临街院门\",\"typecode\":\"991400\",\"biz_type\":[],\"address\":\"西六环西200米\",\"location\":\"116.148597,39.899189\",\"tel\":[],\"distance\":[],\"biz_ext\":{\"rating\":[],\"cost\":[]},\"pname\":\"北京市\",\"cityname\":\"北京市\",\"adname\":\"门头沟区\",\"importance\":[],\"shopid\":[],\"shopinfo\":\"2\",\"poiweight\":[]},{\"id\":\"B0FFFPA5T8\",\"name\":\"北京市丰台八中(西北门)\",\"type\":\"通行设施;临街院门;临街院正门\",\"typecode\":\"991401\",\"biz_type\":[],\"address\":\"丰葆路南50米北京市丰台第八中学附近\",\"location\":\"116.292478,39.816624\",\"tel\":[],\"distance\":[],\"biz_ext\":{\"rating\":[],\"cost\":[]},\"pname\":\"北京市\",\"cityname\":\"北京市\",\"adname\":\"丰台区\",\"importance\":[],\"shopid\":[],\"shopinfo\":\"2\",\"poiweight\":[]},{\"id\":\"B0FFIOXWJ3\",\"name\":\"北京八中高中部(西门)\",\"type\":\"通行设施;临街院门;临街院门\",\"typecode\":\"991400\",\"biz_type\":[],\"address\":\"金融大街28-3号楼附近\",\"location\":\"116.361055,39.910863\",\"tel\":[],\"distance\":[],\"biz_ext\":{\"rating\":[],\"cost\":[]},\"pname\":\"北京市\",\"cityname\":\"北京市\",\"adname\":\"西城区\",\"importance\":[],\"shopid\":[],\"shopinfo\":\"2\",\"poiweight\":[]},{\"id\":\"B0FFG4J7GI\",\"name\":\"北京市丰台八中(北门)\",\"type\":\"通行设施;临街院门;临街院门\",\"typecode\":\"991400\",\"biz_type\":[],\"address\":\"北大地一里16号\",\"location\":\"116.281696,39.852821\",\"tel\":[],\"distance\":[],\"biz_ext\":{\"rating\":[],\"cost\":[]},\"pname\":\"北京市\",\"cityname\":\"北京市\",\"adname\":\"丰台区\",\"importance\":[],\"shopid\":[],\"shopinfo\":\"2\",\"poiweight\":[]},{\"id\":\"B0FFFA2FM1\",\"name\":\"北京八中亦庄分校(东北门)\",\"type\":\"通行设施;临街院门;临街院正门\",\"typecode\":\"991401\",\"biz_type\":[],\"address\":\"经海二路临4号\",\"location\":\"116.518803,39.820869\",\"tel\":[],\"distance\":[],\"biz_ext\":{\"rating\":[],\"cost\":[]},\"pname\":\"北京市\",\"cityname\":\"北京市\",\"adname\":\"大兴区\",\"importance\":[],\"shopid\":[],\"shopinfo\":\"2\",\"poiweight\":[]},{\"id\":\"B0FFG731YQ\",\"name\":\"北京八中亦庄分校(东南门)\",\"type\":\"通行设施;临街院门;临街院门\",\"typecode\":\"991400\",\"biz_type\":[],\"address\":\"亦庄镇小羊坊三羊住宅区北京八中亦庄分校附近\",\"location\":\"116.518635,39.819804\",\"tel\":[],\"distance\":[],\"biz_ext\":{\"rating\":[],\"cost\":[]},\"pname\":\"北京市\",\"cityname\":\"北京市\",\"adname\":\"大兴区\",\"importance\":[],\"shopid\":[],\"shopinfo\":\"2\",\"poiweight\":[]},{\"id\":\"B0FFGK3CS6\",\"name\":\"顺义区第八中学(北门)\",\"type\":\"通行设施;临街院门;临街院正门\",\"typecode\":\"991401\",\"biz_type\":[],\"address\":\"光明北街18号(近双兴北路)顺义区第八中学附近\",\"location\":\"116.659747,40.140476\",\"tel\":[],\"distance\":[],\"biz_ext\":{\"rating\":[],\"cost\":[]},\"pname\":\"北京市\",\"cityname\":\"北京市\",\"adname\":\"顺义区\",\"importance\":[],\"shopid\":[],\"shopinfo\":\"2\",\"poiweight\":[]},{\"id\":\"B0FFH1P5KV\",\"name\":\"北京市第八中学(斋堂中学)\",\"type\":\"科教文化服务;学校;中学\",\"typecode\":\"141202\",\"biz_type\":[],\"address\":\"斋堂大街7号\",\"location\":\"115.699911,39.974613\",\"tel\":\"010-69816684\",\"distance\":[],\"biz_ext\":{\"rating\":[],\"cost\":[]},\"pname\":\"北京市\",\"cityname\":\"北京市\",\"adname\":\"门头沟区\",\"importance\":[],\"shopid\":[],\"shopinfo\":\"0\",\"poiweight\":[]},{\"id\":\"BV10003856\",\"name\":\"大兴八中(公交站)\",\"type\":\"交通设施服务;公交车站;公交车站相关\",\"typecode\":\"150700\",\"biz_type\":[],\"address\":\"631路;841路;842路;940路;兴11路;兴12路;兴35路;兴37路;兴47路\",\"location\":\"116.320122,39.756783\",\"tel\":[],\"distance\":[],\"biz_ext\":{\"rating\":[],\"cost\":[]},\"pname\":\"北京市\",\"cityname\":\"北京市\",\"adname\":\"大兴区\",\"importance\":[],\"shopid\":[],\"shopinfo\":\"2\",\"poiweight\":[]},{\"id\":\"B000A7OXTY\",\"name\":\"北京市丰台第八中学\",\"type\":\"科教文化服务;学校;中学\",\"typecode\":\"141202\",\"biz_type\":[],\"address\":\"北大地一里16号\",\"location\":\"116.281544,39.852406\",\"tel\":\"010-63841055\",\"distance\":[],\"biz_ext\":{\"rating\":\"5.0\",\"cost\":[]},\"pname\":\"北京市\",\"cityname\":\"北京市\",\"adname\":\"丰台区\",\"importance\":[],\"shopid\":[],\"shopinfo\":\"0\",\"poiweight\":[]}]}\n"
     ]
    }
   ],
   "source": [
    "# get with parameters, with headers\n",
    "\n",
    "import requests\n",
    "\n",
    "url = \"http://restapi.amap.com/v3/place/text\"\n",
    "\n",
    "querystring = {\"key\":\"$key\",\"keywords\":\"Bazhong\",\"offset\":\"25\",\"page\":\"1\",\"city\":\"010\"}\n",
    "\n",
    "headers = {\n",
    "    'Cache-Control': \"no-cache\",\n",
    "    }\n",
    "\n",
    "response = requests.request(\"GET\", url, headers=headers, params=querystring)\n",
    "\n",
    "print(response.text)"
   ]
  },
  {
   "cell_type": "markdown",
   "metadata": {},
   "source": [
    "## 数据库操作"
   ]
  },
  {
   "cell_type": "markdown",
   "metadata": {},
   "source": [
    "- basic read/query --> pd.read_sql / pd.read_sql_table pd,.to_sql\n",
    "- using sqlalchemy --> http://www.sqlalchemy.org/"
   ]
  },
  {
   "cell_type": "code",
   "execution_count": 45,
   "metadata": {},
   "outputs": [],
   "source": [
    "from sqlalchemy import create_engine"
   ]
  },
  {
   "cell_type": "code",
   "execution_count": 46,
   "metadata": {},
   "outputs": [],
   "source": [
    "# create db\n",
    "db_url = \"sqlite:///test.db\"\n",
    "engine = create_engine(db_url)"
   ]
  },
  {
   "cell_type": "code",
   "execution_count": 49,
   "metadata": {},
   "outputs": [],
   "source": [
    "## to_sql\n",
    "import pandas as pd\n",
    "import numpy as np\n",
    "\n",
    "data = pd.DataFrame(np.random.rand(4, 3), columns=[\"a\", \"b\", \"c\"])"
   ]
  },
  {
   "cell_type": "code",
   "execution_count": 50,
   "metadata": {},
   "outputs": [
    {
     "data": {
      "text/html": [
       "<div>\n",
       "<style scoped>\n",
       "    .dataframe tbody tr th:only-of-type {\n",
       "        vertical-align: middle;\n",
       "    }\n",
       "\n",
       "    .dataframe tbody tr th {\n",
       "        vertical-align: top;\n",
       "    }\n",
       "\n",
       "    .dataframe thead th {\n",
       "        text-align: right;\n",
       "    }\n",
       "</style>\n",
       "<table border=\"1\" class=\"dataframe\">\n",
       "  <thead>\n",
       "    <tr style=\"text-align: right;\">\n",
       "      <th></th>\n",
       "      <th>a</th>\n",
       "      <th>b</th>\n",
       "      <th>c</th>\n",
       "    </tr>\n",
       "  </thead>\n",
       "  <tbody>\n",
       "    <tr>\n",
       "      <th>0</th>\n",
       "      <td>0.959857</td>\n",
       "      <td>0.404704</td>\n",
       "      <td>0.203658</td>\n",
       "    </tr>\n",
       "    <tr>\n",
       "      <th>1</th>\n",
       "      <td>0.564886</td>\n",
       "      <td>0.001970</td>\n",
       "      <td>0.327876</td>\n",
       "    </tr>\n",
       "    <tr>\n",
       "      <th>2</th>\n",
       "      <td>0.457470</td>\n",
       "      <td>0.041059</td>\n",
       "      <td>0.881885</td>\n",
       "    </tr>\n",
       "    <tr>\n",
       "      <th>3</th>\n",
       "      <td>0.372469</td>\n",
       "      <td>0.655776</td>\n",
       "      <td>0.086884</td>\n",
       "    </tr>\n",
       "  </tbody>\n",
       "</table>\n",
       "</div>"
      ],
      "text/plain": [
       "          a         b         c\n",
       "0  0.959857  0.404704  0.203658\n",
       "1  0.564886  0.001970  0.327876\n",
       "2  0.457470  0.041059  0.881885\n",
       "3  0.372469  0.655776  0.086884"
      ]
     },
     "execution_count": 50,
     "metadata": {},
     "output_type": "execute_result"
    }
   ],
   "source": [
    "data"
   ]
  },
  {
   "cell_type": "code",
   "execution_count": 62,
   "metadata": {},
   "outputs": [],
   "source": [
    "data.to_sql(con=engine, name=\"t_sample\", index=False, if_exists=\"replace\")"
   ]
  },
  {
   "cell_type": "code",
   "execution_count": 63,
   "metadata": {},
   "outputs": [],
   "source": [
    "## read_sql\n",
    "\n",
    "data_read = pd.read_sql_table(con=engine, table_name=\"t_sample\")"
   ]
  },
  {
   "cell_type": "code",
   "execution_count": 64,
   "metadata": {},
   "outputs": [],
   "source": [
    "data_query = pd.read_sql(con=engine, sql=\"select count(1) from t_sample\")"
   ]
  },
  {
   "cell_type": "code",
   "execution_count": 65,
   "metadata": {},
   "outputs": [
    {
     "name": "stdout",
     "output_type": "stream",
     "text": [
      "          a         b         c\n",
      "0  0.959857  0.404704  0.203658\n",
      "1  0.564886  0.001970  0.327876\n",
      "2  0.457470  0.041059  0.881885\n",
      "3  0.372469  0.655776  0.086884\n"
     ]
    }
   ],
   "source": [
    "print(data_read)"
   ]
  },
  {
   "cell_type": "code",
   "execution_count": 67,
   "metadata": {},
   "outputs": [
    {
     "name": "stdout",
     "output_type": "stream",
     "text": [
      "   count(1)\n",
      "0         4\n"
     ]
    }
   ],
   "source": [
    "print(data_query)"
   ]
  },
  {
   "cell_type": "markdown",
   "metadata": {},
   "source": [
    "## 爬虫"
   ]
  },
  {
   "cell_type": "markdown",
   "metadata": {},
   "source": [
    "https://cuiqingcai.com/1052.html\n",
    "\n",
    "- scrapy --> heavy stuff\n",
    "- requests + lxml + bs4"
   ]
  },
  {
   "cell_type": "markdown",
   "metadata": {},
   "source": [
    "## 机器学习"
   ]
  },
  {
   "cell_type": "markdown",
   "metadata": {},
   "source": [
    "- checkout notebook/sklearn\n",
    "- https://github.com/ageron/handson-ml"
   ]
  },
  {
   "cell_type": "markdown",
   "metadata": {},
   "source": [
    "## Jupyter "
   ]
  },
  {
   "cell_type": "markdown",
   "metadata": {},
   "source": [
    "- https://www.dataquest.io/blog/jupyter-notebook-tutorial/"
   ]
  }
 ],
 "metadata": {
  "kernelspec": {
   "display_name": "Python 3",
   "language": "python",
   "name": "python3"
  },
  "language_info": {
   "codemirror_mode": {
    "name": "ipython",
    "version": 3
   },
   "file_extension": ".py",
   "mimetype": "text/x-python",
   "name": "python",
   "nbconvert_exporter": "python",
   "pygments_lexer": "ipython3",
   "version": "3.6.4"
  }
 },
 "nbformat": 4,
 "nbformat_minor": 2
}
