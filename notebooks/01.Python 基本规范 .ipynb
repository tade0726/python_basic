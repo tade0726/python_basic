{
 "cells": [
  {
   "cell_type": "markdown",
   "metadata": {},
   "source": [
    "# Python 基本规范\n",
    "\n",
    "## Python 2 vs Python 3\n",
    "- Python 2 将在 2020年停止维护\n",
    "- Python 3 在性能上更优秀，解决原本的字节编码混乱的问题\n",
    "\n",
    "## Python 环境管理\n",
    "\n",
    "- pipenv: https://pythonguidecn.readthedocs.io/zh/latest/dev/virtualenvs.html\n",
    "- conda: https://conda.io/docs/\n",
    "\n",
    "\n",
    "## 统一代码风格 - pep8\n",
    "- Python pep8 文档： https://www.python.org/dev/peps/pep-0008/\n",
    "- 代码风格检查，修改：https://github.com/ambv/black\n",
    "- 浅谈软件工程师的代码素养: http://wetest.qq.com/lab/view/385.html\n",
    "\n",
    "## IDE\n",
    "- 统一使用 Pycharm\n",
    "\n",
    "## 错误信息捕获\n",
    "- Traceback， 捕获上下文\n",
    "\n",
    "## 测试\n",
    "- Pandas 性能测试： https://github.com/mm-mansour/Fast-Pandas\n",
    "- 单元测试： https://github.com/pytest-dev/pytest"
   ]
  }
 ],
 "metadata": {
  "kernelspec": {
   "display_name": "Python 3",
   "language": "python",
   "name": "python3"
  },
  "language_info": {
   "codemirror_mode": {
    "name": "ipython",
    "version": 3
   },
   "file_extension": ".py",
   "mimetype": "text/x-python",
   "name": "python",
   "nbconvert_exporter": "python",
   "pygments_lexer": "ipython3",
   "version": "3.6.4"
  }
 },
 "nbformat": 4,
 "nbformat_minor": 2
}
