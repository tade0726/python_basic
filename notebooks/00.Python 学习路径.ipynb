{
 "cells": [
  {
   "cell_type": "markdown",
   "metadata": {},
   "source": [
    "# Python 学习路径\n",
    "\n",
    "基础: \n",
    "- https://www.liaoxuefeng.com/wiki/0014316089557264a6b348958f449949df42a6d3a2e542c000\n",
    "- Python 最佳实践指南: https://pythonguidecn.readthedocs.io/zh/latest/    \n",
    "\n",
    "进阶: \n",
    "- Python cookbook: https://book.douban.com/subject/26381341/\n",
    "- Python 手册: https://book.douban.com/subject/6049132/\n",
    "- 流程的 Python : https://book.douban.com/subject/27028517/\n",
    "- Python 指南: http://pythonguidecn.readthedocs.io/zh/latest/\n",
    "\n",
    "## Python basic sytax\n",
    "\n",
    "Please reading ppt in files folders:\n",
    "\n",
    "- [Lecture1_python.pptx](files/Lecture1_python.pptx)\n",
    "- [Lecture2_cis4930.pptx](files/Lecture2_cis4930.pptx)\n",
    "- [Lecture3_cis4930.pptx](files/Lecture3_cis4930.pptx)\n",
    "- [Lecture4_cis4930.pptx](files/Lecture4_cis4930.pptx)\n",
    "- [Lecture5_cis4930.pptx](files/Lecture5_cis4930.pptx)\n",
    "- [Lecture6_cis4930.pptx](files/Lecture6_cis4930.pptx)"
   ]
  }
 ],
 "metadata": {
  "kernelspec": {
   "display_name": "Python 3",
   "language": "python",
   "name": "python3"
  },
  "language_info": {
   "codemirror_mode": {
    "name": "ipython",
    "version": 3
   },
   "file_extension": ".py",
   "mimetype": "text/x-python",
   "name": "python",
   "nbconvert_exporter": "python",
   "pygments_lexer": "ipython3",
   "version": "3.6.4"
  }
 },
 "nbformat": 4,
 "nbformat_minor": 2
}
